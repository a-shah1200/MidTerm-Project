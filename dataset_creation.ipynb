{
  "cells": [
    {
      "cell_type": "code",
      "execution_count": null,
      "metadata": {
        "colab": {
          "base_uri": "https://localhost:8080/"
        },
        "id": "cthpz7dpXEIP",
        "outputId": "bfea4fec-479e-42bf-c72c-e08aa2592d33"
      },
      "outputs": [],
      "source": [
        "!pip install datasets"
      ]
    },
    {
      "cell_type": "code",
      "execution_count": 1,
      "metadata": {
        "id": "Lw37IxmBW2Gi"
      },
      "outputs": [
        {
          "name": "stderr",
          "output_type": "stream",
          "text": [
            "c:\\Users\\YEH\\AppData\\Local\\Programs\\Python\\Python312\\Lib\\site-packages\\tqdm\\auto.py:21: TqdmWarning: IProgress not found. Please update jupyter and ipywidgets. See https://ipywidgets.readthedocs.io/en/stable/user_install.html\n",
            "  from .autonotebook import tqdm as notebook_tqdm\n"
          ]
        }
      ],
      "source": [
        "from datasets import load_dataset\n",
        "import pandas as pd\n",
        "import random\n",
        "random.seed(1)  # For consistency between the runs\n"
      ]
    },
    {
      "cell_type": "code",
      "execution_count": 47,
      "metadata": {
        "id": "UlXmxOxZYP5E"
      },
      "outputs": [],
      "source": [
        "class GenerateDataset():\n",
        "  def __init__(self, dataset,length,is_train=True,min_length=6, max_length=20):\n",
        "    self.dataset = load_dataset(dataset) # Can take a lot of time depending upon dataset\n",
        "    if is_train:\n",
        "      self.dataset=self.dataset[\"train\"]\n",
        "    self.length=length\n",
        "    self.min_length=min_length\n",
        "    self.max_length=max_length\n",
        "    # self.dataset=self.get_dataset()\n",
        "    # self.__dataset=self.preprocess(self.dataset)  # For debugging purposes only\n",
        "    self.__dataset=self.preprocess_test(self.dataset) # directly preprocess the dataset \n",
        "    self.dataset=self.gen_incomplete(self.__dataset)\n",
        "\n",
        "  @property\n",
        "  def complete_dataset(self):\n",
        "    return self.__dataset\n",
        "\n",
        "  def get_dataset(self,param=None):\n",
        "    if param==None:\n",
        "      premlim_li=random.choices(self.dataset,k=self.length)\n",
        "    else:\n",
        "      premlim_li=random.choices(self.dataset,k=param)\n",
        "    return premlim_li\n",
        "  \n",
        "  def preprocess_test(self,li):\n",
        "    buffer = []\n",
        "    n = self.length\n",
        "    for i in li:\n",
        "      if len(i[\"text\"].strip().split()) > self.min_length:\n",
        "        buffer.append(i[\"text\"])\n",
        "        n -= 1\n",
        "      if n == 0:\n",
        "        break\n",
        "    return buffer\n",
        "  \n",
        "  # def redundant_character(self,sentence,check=[\" \",\"'\",\"''\"]):\n",
        "  #   arr=sentence[\"text\"].strip().split()\n",
        "  #   count=len(arr)\n",
        "  #   for i in arr:\n",
        "  #     if i in check:\n",
        "  #       count-=1\n",
        "  #   return count\n",
        "\n",
        "  # def preprocess(self,li):\n",
        "  #   buffer=[]\n",
        "  #   count=0\n",
        "  #   max_iter=1000\n",
        "  #   while True:\n",
        "  #     max_iter-=1\n",
        "  #     if max_iter==0:\n",
        "  #       if len(buffer)<self.length:\n",
        "  #         temp=self.get_dataset(self.length-len(buffer))\n",
        "  #         buffer.extend([i[\"text\"] for i in temp])\n",
        "  #       break\n",
        "  #     for i in li:\n",
        "  #       if self.redundant_character(i)<=self.min_length:\n",
        "  #         count+=1\n",
        "  #       else:\n",
        "  #         buffer.append(i[\"text\"])\n",
        "  #     if count==0 or len(buffer)==self.length:\n",
        "  #       break\n",
        "  #     else:\n",
        "  #       li=self.get_dataset(count)\n",
        "  #       count=0\n",
        "  #   return buffer\n",
        "\n",
        "  def gen_incomplete(self,pre_li):\n",
        "    buffer=[]\n",
        "    for i in pre_li:\n",
        "      arr=i.strip().split()\n",
        "      if len(arr) > self.max_length:\n",
        "        buffer.append(\" \".join(arr[:8]))\n",
        "      else:\n",
        "        buffer.append(\" \".join(arr[:(len(arr)//2)]))\n",
        "\n",
        "    return buffer\n",
        "\n",
        "  def __len__(self):\n",
        "    return len(self.dataset)\n",
        "\n",
        "  def __getitem__(self, idx):\n",
        "    return self.dataset[idx]\n",
        "\n",
        "  def toCSV(self):\n",
        "    df=pd.DataFrame([i for i in self.dataset],columns=[\"x_i\"])\n",
        "    df.to_csv(\"dataset.csv\")\n"
      ]
    },
    {
      "cell_type": "code",
      "execution_count": 48,
      "metadata": {
        "colab": {
          "base_uri": "https://localhost:8080/",
          "height": 49,
          "referenced_widgets": [
            "85fce7e1654447cf940f2c1b2d81d7de",
            "7803efdddba043c7a535ef3d17a5d2e4",
            "1484f1945ba14acaa3d95fdfa52f559e",
            "e29bb8f709c34f72824c9673cd38a76b",
            "113bea675fa341bb85a80120f1dfb8dd",
            "d4862734702f43b987367c4c9de88d06",
            "4ac82a9079184fe8a5ba48bda8988a47",
            "803fc279b6184eb7a5ba0019fd47bb83",
            "3d417d3e76ff4397b25cd6790ef2b467",
            "e262ac1ab20740f889f9814b88a27e96",
            "c8157bd160b94dc09d8944dcb2a337f4"
          ]
        },
        "id": "PXSple02n6qH",
        "outputId": "ca7d4e22-8602-4170-8453-2ba537369eed"
      },
      "outputs": [],
      "source": [
        "data=GenerateDataset(\"bookcorpus\",100)"
      ]
    },
    {
      "cell_type": "code",
      "execution_count": 49,
      "metadata": {
        "id": "HE3pSy9exigX"
      },
      "outputs": [],
      "source": [
        "data.toCSV()"
      ]
    },
    {
      "cell_type": "code",
      "execution_count": 44,
      "metadata": {
        "colab": {
          "base_uri": "https://localhost:8080/",
          "height": 36
        },
        "id": "2QFIoUhSrXFx",
        "outputId": "d0b955f0-e3dc-4941-b495-13c45b8f2c7d"
      },
      "outputs": [
        {
          "data": {
            "text/plain": [
              "\"emma 's best friend ,\""
            ]
          },
          "execution_count": 44,
          "metadata": {},
          "output_type": "execute_result"
        }
      ],
      "source": [
        "data[95]"
      ]
    },
    {
      "cell_type": "code",
      "execution_count": 52,
      "metadata": {
        "colab": {
          "base_uri": "https://localhost:8080/",
          "height": 261
        },
        "id": "W_pCyjaShTK6",
        "outputId": "521cefb4-2a3d-4a41-df96-dea53a119081"
      },
      "outputs": [
        {
          "name": "stderr",
          "output_type": "stream",
          "text": [
            "C:\\Users\\YEH\\AppData\\Local\\Temp\\ipykernel_46544\\884775774.py:5: FutureWarning: DataFrame.applymap has been deprecated. Use DataFrame.map instead.\n",
            "  df_cleaned = df.applymap(lambda x: x.replace(\"`\", \"\") if isinstance(x, str) else x)\n",
            "C:\\Users\\YEH\\AppData\\Local\\Temp\\ipykernel_46544\\884775774.py:8: FutureWarning: DataFrame.applymap has been deprecated. Use DataFrame.map instead.\n",
            "  df_cleaned = df_cleaned.applymap(lambda x: x.replace('\"\"', \"\") if isinstance(x, str) else x)\n"
          ]
        },
        {
          "data": {
            "text/html": [
              "<div>\n",
              "<style scoped>\n",
              "    .dataframe tbody tr th:only-of-type {\n",
              "        vertical-align: middle;\n",
              "    }\n",
              "\n",
              "    .dataframe tbody tr th {\n",
              "        vertical-align: top;\n",
              "    }\n",
              "\n",
              "    .dataframe thead th {\n",
              "        text-align: right;\n",
              "    }\n",
              "</style>\n",
              "<table border=\"1\" class=\"dataframe\">\n",
              "  <thead>\n",
              "    <tr style=\"text-align: right;\">\n",
              "      <th></th>\n",
              "      <th>Unnamed: 0</th>\n",
              "      <th>x_i</th>\n",
              "    </tr>\n",
              "  </thead>\n",
              "  <tbody>\n",
              "    <tr>\n",
              "      <th>0</th>\n",
              "      <td>0</td>\n",
              "      <td>usually , he would be tearing around the</td>\n",
              "    </tr>\n",
              "    <tr>\n",
              "      <th>1</th>\n",
              "      <td>1</td>\n",
              "      <td>but just one look at a</td>\n",
              "    </tr>\n",
              "    <tr>\n",
              "      <th>2</th>\n",
              "      <td>2</td>\n",
              "      <td>that had been megan 's plan</td>\n",
              "    </tr>\n",
              "    <tr>\n",
              "      <th>3</th>\n",
              "      <td>3</td>\n",
              "      <td>he 'd seen the movie almost by mistake</td>\n",
              "    </tr>\n",
              "    <tr>\n",
              "      <th>4</th>\n",
              "      <td>4</td>\n",
              "      <td>she liked to think being surrounded by adults</td>\n",
              "    </tr>\n",
              "  </tbody>\n",
              "</table>\n",
              "</div>"
            ],
            "text/plain": [
              "   Unnamed: 0                                            x_i\n",
              "0           0       usually , he would be tearing around the\n",
              "1           1                         but just one look at a\n",
              "2           2                    that had been megan 's plan\n",
              "3           3         he 'd seen the movie almost by mistake\n",
              "4           4  she liked to think being surrounded by adults"
            ]
          },
          "execution_count": 52,
          "metadata": {},
          "output_type": "execute_result"
        }
      ],
      "source": [
        "# Load the dataset\n",
        "df = pd.read_csv('dataset.csv')\n",
        "\n",
        "# Replace all instances of \"`\" with an empty string in the entire DataFrame or a specific column\n",
        "df_cleaned = df.applymap(lambda x: x.replace(\"`\", \"\") if isinstance(x, str) else x)\n",
        "\n",
        "# replace all instances of \"\"\" with an empty string in the entire DataFrame or a specific column\n",
        "df_cleaned = df_cleaned.applymap(lambda x: x.replace('\"\"', \"\") if isinstance(x, str) else x)\n",
        "\n",
        "# If you want to do this for a specific column, let's say 'text_column'\n",
        "# df['text_column'] = df['text_column'].str.replace(\"``\", \"\")\n",
        "\n",
        "# Save the cleaned dataset\n",
        "df_cleaned.to_csv('cleaned_dataset.csv', index=False)\n",
        "\n",
        "# Display the cleaned data\n",
        "df_cleaned.head()"
      ]
    }
  ],
  "metadata": {
    "colab": {
      "provenance": []
    },
    "kernelspec": {
      "display_name": "Python 3",
      "name": "python3"
    },
    "language_info": {
      "codemirror_mode": {
        "name": "ipython",
        "version": 3
      },
      "file_extension": ".py",
      "mimetype": "text/x-python",
      "name": "python",
      "nbconvert_exporter": "python",
      "pygments_lexer": "ipython3",
      "version": "3.12.0"
    },
    "widgets": {
      "application/vnd.jupyter.widget-state+json": {
        "113bea675fa341bb85a80120f1dfb8dd": {
          "model_module": "@jupyter-widgets/base",
          "model_module_version": "1.2.0",
          "model_name": "LayoutModel",
          "state": {
            "_model_module": "@jupyter-widgets/base",
            "_model_module_version": "1.2.0",
            "_model_name": "LayoutModel",
            "_view_count": null,
            "_view_module": "@jupyter-widgets/base",
            "_view_module_version": "1.2.0",
            "_view_name": "LayoutView",
            "align_content": null,
            "align_items": null,
            "align_self": null,
            "border": null,
            "bottom": null,
            "display": null,
            "flex": null,
            "flex_flow": null,
            "grid_area": null,
            "grid_auto_columns": null,
            "grid_auto_flow": null,
            "grid_auto_rows": null,
            "grid_column": null,
            "grid_gap": null,
            "grid_row": null,
            "grid_template_areas": null,
            "grid_template_columns": null,
            "grid_template_rows": null,
            "height": null,
            "justify_content": null,
            "justify_items": null,
            "left": null,
            "margin": null,
            "max_height": null,
            "max_width": null,
            "min_height": null,
            "min_width": null,
            "object_fit": null,
            "object_position": null,
            "order": null,
            "overflow": null,
            "overflow_x": null,
            "overflow_y": null,
            "padding": null,
            "right": null,
            "top": null,
            "visibility": null,
            "width": null
          }
        },
        "1484f1945ba14acaa3d95fdfa52f559e": {
          "model_module": "@jupyter-widgets/controls",
          "model_module_version": "1.5.0",
          "model_name": "FloatProgressModel",
          "state": {
            "_dom_classes": [],
            "_model_module": "@jupyter-widgets/controls",
            "_model_module_version": "1.5.0",
            "_model_name": "FloatProgressModel",
            "_view_count": null,
            "_view_module": "@jupyter-widgets/controls",
            "_view_module_version": "1.5.0",
            "_view_name": "ProgressView",
            "bar_style": "success",
            "description": "",
            "description_tooltip": null,
            "layout": "IPY_MODEL_803fc279b6184eb7a5ba0019fd47bb83",
            "max": 74004228,
            "min": 0,
            "orientation": "horizontal",
            "style": "IPY_MODEL_3d417d3e76ff4397b25cd6790ef2b467",
            "value": 74004228
          }
        },
        "3d417d3e76ff4397b25cd6790ef2b467": {
          "model_module": "@jupyter-widgets/controls",
          "model_module_version": "1.5.0",
          "model_name": "ProgressStyleModel",
          "state": {
            "_model_module": "@jupyter-widgets/controls",
            "_model_module_version": "1.5.0",
            "_model_name": "ProgressStyleModel",
            "_view_count": null,
            "_view_module": "@jupyter-widgets/base",
            "_view_module_version": "1.2.0",
            "_view_name": "StyleView",
            "bar_color": null,
            "description_width": ""
          }
        },
        "4ac82a9079184fe8a5ba48bda8988a47": {
          "model_module": "@jupyter-widgets/controls",
          "model_module_version": "1.5.0",
          "model_name": "DescriptionStyleModel",
          "state": {
            "_model_module": "@jupyter-widgets/controls",
            "_model_module_version": "1.5.0",
            "_model_name": "DescriptionStyleModel",
            "_view_count": null,
            "_view_module": "@jupyter-widgets/base",
            "_view_module_version": "1.2.0",
            "_view_name": "StyleView",
            "description_width": ""
          }
        },
        "7803efdddba043c7a535ef3d17a5d2e4": {
          "model_module": "@jupyter-widgets/controls",
          "model_module_version": "1.5.0",
          "model_name": "HTMLModel",
          "state": {
            "_dom_classes": [],
            "_model_module": "@jupyter-widgets/controls",
            "_model_module_version": "1.5.0",
            "_model_name": "HTMLModel",
            "_view_count": null,
            "_view_module": "@jupyter-widgets/controls",
            "_view_module_version": "1.5.0",
            "_view_name": "HTMLView",
            "description": "",
            "description_tooltip": null,
            "layout": "IPY_MODEL_d4862734702f43b987367c4c9de88d06",
            "placeholder": "​",
            "style": "IPY_MODEL_4ac82a9079184fe8a5ba48bda8988a47",
            "value": "Generating train split: 100%"
          }
        },
        "803fc279b6184eb7a5ba0019fd47bb83": {
          "model_module": "@jupyter-widgets/base",
          "model_module_version": "1.2.0",
          "model_name": "LayoutModel",
          "state": {
            "_model_module": "@jupyter-widgets/base",
            "_model_module_version": "1.2.0",
            "_model_name": "LayoutModel",
            "_view_count": null,
            "_view_module": "@jupyter-widgets/base",
            "_view_module_version": "1.2.0",
            "_view_name": "LayoutView",
            "align_content": null,
            "align_items": null,
            "align_self": null,
            "border": null,
            "bottom": null,
            "display": null,
            "flex": null,
            "flex_flow": null,
            "grid_area": null,
            "grid_auto_columns": null,
            "grid_auto_flow": null,
            "grid_auto_rows": null,
            "grid_column": null,
            "grid_gap": null,
            "grid_row": null,
            "grid_template_areas": null,
            "grid_template_columns": null,
            "grid_template_rows": null,
            "height": null,
            "justify_content": null,
            "justify_items": null,
            "left": null,
            "margin": null,
            "max_height": null,
            "max_width": null,
            "min_height": null,
            "min_width": null,
            "object_fit": null,
            "object_position": null,
            "order": null,
            "overflow": null,
            "overflow_x": null,
            "overflow_y": null,
            "padding": null,
            "right": null,
            "top": null,
            "visibility": null,
            "width": null
          }
        },
        "85fce7e1654447cf940f2c1b2d81d7de": {
          "model_module": "@jupyter-widgets/controls",
          "model_module_version": "1.5.0",
          "model_name": "HBoxModel",
          "state": {
            "_dom_classes": [],
            "_model_module": "@jupyter-widgets/controls",
            "_model_module_version": "1.5.0",
            "_model_name": "HBoxModel",
            "_view_count": null,
            "_view_module": "@jupyter-widgets/controls",
            "_view_module_version": "1.5.0",
            "_view_name": "HBoxView",
            "box_style": "",
            "children": [
              "IPY_MODEL_7803efdddba043c7a535ef3d17a5d2e4",
              "IPY_MODEL_1484f1945ba14acaa3d95fdfa52f559e",
              "IPY_MODEL_e29bb8f709c34f72824c9673cd38a76b"
            ],
            "layout": "IPY_MODEL_113bea675fa341bb85a80120f1dfb8dd"
          }
        },
        "c8157bd160b94dc09d8944dcb2a337f4": {
          "model_module": "@jupyter-widgets/controls",
          "model_module_version": "1.5.0",
          "model_name": "DescriptionStyleModel",
          "state": {
            "_model_module": "@jupyter-widgets/controls",
            "_model_module_version": "1.5.0",
            "_model_name": "DescriptionStyleModel",
            "_view_count": null,
            "_view_module": "@jupyter-widgets/base",
            "_view_module_version": "1.2.0",
            "_view_name": "StyleView",
            "description_width": ""
          }
        },
        "d4862734702f43b987367c4c9de88d06": {
          "model_module": "@jupyter-widgets/base",
          "model_module_version": "1.2.0",
          "model_name": "LayoutModel",
          "state": {
            "_model_module": "@jupyter-widgets/base",
            "_model_module_version": "1.2.0",
            "_model_name": "LayoutModel",
            "_view_count": null,
            "_view_module": "@jupyter-widgets/base",
            "_view_module_version": "1.2.0",
            "_view_name": "LayoutView",
            "align_content": null,
            "align_items": null,
            "align_self": null,
            "border": null,
            "bottom": null,
            "display": null,
            "flex": null,
            "flex_flow": null,
            "grid_area": null,
            "grid_auto_columns": null,
            "grid_auto_flow": null,
            "grid_auto_rows": null,
            "grid_column": null,
            "grid_gap": null,
            "grid_row": null,
            "grid_template_areas": null,
            "grid_template_columns": null,
            "grid_template_rows": null,
            "height": null,
            "justify_content": null,
            "justify_items": null,
            "left": null,
            "margin": null,
            "max_height": null,
            "max_width": null,
            "min_height": null,
            "min_width": null,
            "object_fit": null,
            "object_position": null,
            "order": null,
            "overflow": null,
            "overflow_x": null,
            "overflow_y": null,
            "padding": null,
            "right": null,
            "top": null,
            "visibility": null,
            "width": null
          }
        },
        "e262ac1ab20740f889f9814b88a27e96": {
          "model_module": "@jupyter-widgets/base",
          "model_module_version": "1.2.0",
          "model_name": "LayoutModel",
          "state": {
            "_model_module": "@jupyter-widgets/base",
            "_model_module_version": "1.2.0",
            "_model_name": "LayoutModel",
            "_view_count": null,
            "_view_module": "@jupyter-widgets/base",
            "_view_module_version": "1.2.0",
            "_view_name": "LayoutView",
            "align_content": null,
            "align_items": null,
            "align_self": null,
            "border": null,
            "bottom": null,
            "display": null,
            "flex": null,
            "flex_flow": null,
            "grid_area": null,
            "grid_auto_columns": null,
            "grid_auto_flow": null,
            "grid_auto_rows": null,
            "grid_column": null,
            "grid_gap": null,
            "grid_row": null,
            "grid_template_areas": null,
            "grid_template_columns": null,
            "grid_template_rows": null,
            "height": null,
            "justify_content": null,
            "justify_items": null,
            "left": null,
            "margin": null,
            "max_height": null,
            "max_width": null,
            "min_height": null,
            "min_width": null,
            "object_fit": null,
            "object_position": null,
            "order": null,
            "overflow": null,
            "overflow_x": null,
            "overflow_y": null,
            "padding": null,
            "right": null,
            "top": null,
            "visibility": null,
            "width": null
          }
        },
        "e29bb8f709c34f72824c9673cd38a76b": {
          "model_module": "@jupyter-widgets/controls",
          "model_module_version": "1.5.0",
          "model_name": "HTMLModel",
          "state": {
            "_dom_classes": [],
            "_model_module": "@jupyter-widgets/controls",
            "_model_module_version": "1.5.0",
            "_model_name": "HTMLModel",
            "_view_count": null,
            "_view_module": "@jupyter-widgets/controls",
            "_view_module_version": "1.5.0",
            "_view_name": "HTMLView",
            "description": "",
            "description_tooltip": null,
            "layout": "IPY_MODEL_e262ac1ab20740f889f9814b88a27e96",
            "placeholder": "​",
            "style": "IPY_MODEL_c8157bd160b94dc09d8944dcb2a337f4",
            "value": " 74004228/74004228 [28:21&lt;00:00, 32736.17 examples/s]"
          }
        }
      }
    }
  },
  "nbformat": 4,
  "nbformat_minor": 0
}
