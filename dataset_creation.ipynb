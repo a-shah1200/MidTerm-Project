{
  "nbformat": 4,
  "nbformat_minor": 0,
  "metadata": {
    "colab": {
      "provenance": []
    },
    "kernelspec": {
      "name": "python3",
      "display_name": "Python 3"
    },
    "language_info": {
      "name": "python"
    }
  },
  "cells": [
    {
      "cell_type": "code",
      "source": [
        "!pip install datasets"
      ],
      "metadata": {
        "id": "cthpz7dpXEIP"
      },
      "execution_count": null,
      "outputs": []
    },
    {
      "cell_type": "code",
      "execution_count": 4,
      "metadata": {
        "id": "Lw37IxmBW2Gi"
      },
      "outputs": [],
      "source": [
        "from datasets import load_dataset\n"
      ]
    },
    {
      "cell_type": "code",
      "source": [
        "import pandas as pd"
      ],
      "metadata": {
        "id": "mmz1tyx0xTVl"
      },
      "execution_count": 112,
      "outputs": []
    },
    {
      "cell_type": "code",
      "source": [
        "import random\n",
        "random.seed(1)  # For consistency between the runs\n"
      ],
      "metadata": {
        "id": "apju2bIpZF_V"
      },
      "execution_count": 18,
      "outputs": []
    },
    {
      "cell_type": "code",
      "source": [
        "class GenerateDataset():\n",
        "  def __init__(self, dataset,length,is_train=True,min_length=4):\n",
        "    self.dataset = load_dataset(dataset) # Can take a lot of time depending upon dataset\n",
        "    if is_train:\n",
        "      self.dataset=self.dataset[\"train\"]\n",
        "    self.length=length\n",
        "    self.min_length=min_length\n",
        "    self.dataset=self.get_dataset()\n",
        "    self.__dataset=self.preprocess(self.dataset)  # For debugging purposes only\n",
        "    self.dataset=self.gen_incomplete(self.__dataset)\n",
        "\n",
        "  @property\n",
        "  def complete_dataset(self):\n",
        "    return self.__dataset\n",
        "\n",
        "  def get_dataset(self,param=None):\n",
        "    if param==None:\n",
        "      premlim_li=random.choices(self.dataset,k=self.length)\n",
        "    else:\n",
        "      premlim_li=random.choices(self.dataset,k=param)\n",
        "    return premlim_li\n",
        "\n",
        "  def preprocess(self,li):\n",
        "    buffer=[]\n",
        "    count=0\n",
        "    max_iter=100\n",
        "    while True:\n",
        "      max_iter-=1\n",
        "      if max_iter==0:\n",
        "        break\n",
        "      for i in li:\n",
        "        if len(i[\"text\"].strip().split())<=self.min_length:\n",
        "          count+=1\n",
        "        else:\n",
        "          buffer.append(i[\"text\"])\n",
        "      if count==0 or len(buffer)==self.length:\n",
        "        break\n",
        "      else:\n",
        "        li=self.get_dataset(count)\n",
        "        count=0\n",
        "    return buffer\n",
        "\n",
        "  def gen_incomplete(self,pre_li):\n",
        "    buffer=[]\n",
        "    for i in pre_li:\n",
        "      arr=i.strip().split()\n",
        "      buffer.append(\" \".join(arr[:(len(arr)//2)]))\n",
        "\n",
        "    return buffer\n",
        "\n",
        "\n",
        "\n",
        "  def __len__(self):\n",
        "    return len(self.dataset)\n",
        "\n",
        "  def __getitem__(self, idx):\n",
        "    return self.dataset[idx]\n",
        "\n",
        "  def toCSV(self):\n",
        "    df=pd.DataFrame([i for i in self.dataset],columns=[\"x_i\"])\n",
        "    df.to_csv(\"dataset.csv\")\n"
      ],
      "metadata": {
        "id": "UlXmxOxZYP5E"
      },
      "execution_count": 128,
      "outputs": []
    },
    {
      "cell_type": "code",
      "source": [
        "data=GenerateDataset(\"bookcorpus\",100)"
      ],
      "metadata": {
        "id": "PXSple02n6qH"
      },
      "execution_count": 129,
      "outputs": []
    },
    {
      "cell_type": "code",
      "source": [
        "data.toCSV()"
      ],
      "metadata": {
        "id": "HE3pSy9exigX"
      },
      "execution_count": 130,
      "outputs": []
    },
    {
      "cell_type": "code",
      "source": [
        "data[50]"
      ],
      "metadata": {
        "colab": {
          "base_uri": "https://localhost:8080/",
          "height": 36
        },
        "id": "2QFIoUhSrXFx",
        "outputId": "85fcf239-652b-4d01-d827-8d5efe3923d8"
      },
      "execution_count": 131,
      "outputs": [
        {
          "output_type": "execute_result",
          "data": {
            "text/plain": [
              "'it was the only thing'"
            ],
            "application/vnd.google.colaboratory.intrinsic+json": {
              "type": "string"
            }
          },
          "metadata": {},
          "execution_count": 131
        }
      ]
    },
    {
      "cell_type": "code",
      "source": [
        "data.complete_dataset[50]  # For debugging only, just to see what full sentence looks like"
      ],
      "metadata": {
        "colab": {
          "base_uri": "https://localhost:8080/",
          "height": 36
        },
        "id": "_EqXhk1grY-R",
        "outputId": "d17daf9e-a97a-467f-9795-0e750a9338ab"
      },
      "execution_count": 132,
      "outputs": [
        {
          "output_type": "execute_result",
          "data": {
            "text/plain": [
              "'it was the only thing that was holding him back .'"
            ],
            "application/vnd.google.colaboratory.intrinsic+json": {
              "type": "string"
            }
          },
          "metadata": {},
          "execution_count": 132
        }
      ]
    }
  ]
}